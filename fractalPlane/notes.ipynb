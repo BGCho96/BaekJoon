{
 "cells": [
  {
   "cell_type": "markdown",
   "metadata": {},
   "source": [
    "# 프랙탈 평면.  \n",
    "전체의 평면을 구성하고 잘라낼까 생각했는데, 그냥 출력 범위를 구성하고 그 위를 도장 찍듯이 프랙탈 규칙을 찍기로 했다.  \n",
    "프랙탈의 규칙은 n 가지 종류이므로(n초마다 새로운 규칙 생성) n 번 반복하는 것으로 가닥을 잡아보자.  "
   ]
  }
 ],
 "metadata": {
  "language_info": {
   "name": "python"
  }
 },
 "nbformat": 4,
 "nbformat_minor": 2
}
