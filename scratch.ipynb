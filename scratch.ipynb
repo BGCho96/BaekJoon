{
 "cells": [
  {
   "cell_type": "code",
   "execution_count": 2,
   "metadata": {},
   "outputs": [
    {
     "name": "stdout",
     "output_type": "stream",
     "text": [
      "Note: you may need to restart the kernel to use updated packages.\n"
     ]
    }
   ],
   "source": [
    "pip freeze > requirements.txt"
   ]
  },
  {
   "cell_type": "code",
   "execution_count": null,
   "metadata": {},
   "outputs": [],
   "source": [
    "1 1 2 4 8 16 .... \n",
    "1 2 3\n",
    "1 1 2 3\n",
    "\n",
    "7 = 2^3 - 1\n",
    "# 2의 배수는 지수적 증가로 모두 수집 가능 - 틀렸음\n",
    "[5, 9, 10, 11, 13, 17, 18, 19, 20, 21, 22, 23, 25, 26, 27, 29]\n",
    "#한번 참았다 가는 느낌으로 가면은,\n",
    "[10, 11, 13, 18, 19, 20, 21, 22, 23, 25, 26, 27, 29]\n",
    "# 5, 9만 해결. 즉 2^n 보다 1 큰 경우만 딱 해결함.\n",
    "#10을 만들기 위해서 인간적 사고를 해보자.\n",
    "1 1 2 4 2\n",
    "#11은?\n",
    "1 1 2 4 3\n",
    "1 1 2 4 4 1 13\n",
    "1 1 2 4 2 3 13\n",
    "# 13 = 8 + 4 + 1\n",
    "# 1101\n",
    "#19 = 16 + 2 + 1\n",
    "# 10011 = 1111 + 11\n",
    "# 29 = 16 + 8 + 4 + 1\n",
    "# 11101 = 1111 + 1100 + 1\n",
    "# 111110111\n",
    "'''\n",
    "111110111010111\n",
    " 11111111\n",
    " 1111\n",
    "      111\n",
    "\n",
    "22 = 16+4+2\n",
    "10110\n",
    "1 1 2 4 7 11 22\n",
    "1 1 2 4 8 6 22\n",
    "\n",
    "\n",
    "'''\n",
    "1 1 2 4 8 12 1 = \n",
    "1 1 2 4 8 16 1 = 29\n",
    "\n",
    "\n",
    "1 1 2 4 8 3 1\n",
    "1 1 1 3 5 10 13\n",
    "#18\n",
    "1 1 2 4 8 2 18\n",
    "#18 = 16 + 2\n",
    "\n",
    "\n",
    "\n",
    "\n"
   ]
  },
  {
   "cell_type": "code",
   "execution_count": null,
   "metadata": {},
   "outputs": [],
   "source": [
    "import sys\n",
    "input = sys.stdin.readline\n",
    "N = int(input())\n",
    "# targetList = []\n",
    "for i in range(N):\n",
    "    target = int(input())\n",
    "    tar_binary_only = bin(target)[2:]\n",
    "    if tar_binary_only =='1':\n",
    "        print('1 1')\n",
    "        continue\n",
    "    for j in range(len(tar_binary_only)-1):\n",
    "        print(f'1 {j+1}')\n",
    "    sub_bits = tar_binary_only[1:]\n",
    "    reversed_sub = sub_bits[::-1]\n",
    "\n",
    "    i = 0\n",
    "    while i < len(reversed_sub):\n",
    "        if reversed_sub[i] == '1':\n",
    "            start = i + 1\n",
    "            while i + 1 < len(reversed_sub) and reversed_sub[i + 1] == '1':\n",
    "                i += 1\n",
    "            end = i + 1\n",
    "            print(f'{start} {end}')\n",
    "        i += 1\n",
    "    \n"
   ]
  }
 ],
 "metadata": {
  "kernelspec": {
   "display_name": "base",
   "language": "python",
   "name": "python3"
  },
  "language_info": {
   "codemirror_mode": {
    "name": "ipython",
    "version": 3
   },
   "file_extension": ".py",
   "mimetype": "text/x-python",
   "name": "python",
   "nbconvert_exporter": "python",
   "pygments_lexer": "ipython3",
   "version": "3.10.10"
  }
 },
 "nbformat": 4,
 "nbformat_minor": 2
}
