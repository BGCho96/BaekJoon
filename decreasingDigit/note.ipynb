{
 "cells": [
  {
   "cell_type": "markdown",
   "metadata": {},
   "source": [
    "패턴이 있을 것이다. n 번째 숫자를 선정한다 하면 n의 크기에 근거하여 몇만큼을 자릿수에 할애하고, 나머지를 1의 자릿수, 혹은 올릴수 있는 자릿수를 올리는 식으로...  \n",
    "적어나 보자 "
   ]
  },
  {
   "cell_type": "code",
   "execution_count": null,
   "metadata": {
    "vscode": {
     "languageId": "plaintext"
    }
   },
   "outputs": [],
   "source": [
    "0\n",
    "1\n",
    "2\n",
    "3\n",
    "4\n",
    "5\n",
    "6\n",
    "7\n",
    "8\n",
    "9\n",
    "#9개의 1자릿수 = 9C1\n",
    "10\n",
    "#11\n",
    "20\n",
    "21\n",
    "30\n",
    "31\n",
    "32\n",
    "40\n",
    "41\n",
    "42\n",
    "43  \n",
    "#느낌상 9C2\n",
    "결론적으로 이 문제는 몇자리 숫자냐를 특정한 뒤, 9개의 정수 목록 중에서 자릿수 갯수 k만큼의 숫자를 작은쪽에서부터 시작해서 큰쪽으로 다 옮기는 문제다. 이런 방식으로 접근해보자. \n"
   ]
  }
 ],
 "metadata": {
  "language_info": {
   "name": "python"
  }
 },
 "nbformat": 4,
 "nbformat_minor": 2
}
